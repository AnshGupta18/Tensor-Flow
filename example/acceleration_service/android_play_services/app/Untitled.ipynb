{
  "nbformat": 4,
  "nbformat_minor": 0,
  "metadata": {
    "colab": {
      "provenance": []
    },
    "kernelspec": {
      "name": "python3",
      "display_name": "Python 3"
    },
    "language_info": {
      "name": "python"
    }
  },
  "cells": [
    {
      "cell_type": "code",
      "source": [
        "apply plugin: 'com.android.application'\n",
        "apply plugin: 'com.google.android.gms.strict-version-matcher-plugin'\n",
        "\n",
        "\n",
        "android {\n",
        "    compileSdk 31\n",
        "\n",
        "    defaultConfig {\n",
        "        applicationId \"org.tensorflow.lite.examples.accelerationservice\"\n",
        "        minSdk 21\n",
        "        targetSdk 31\n",
        "        versionCode 1\n",
        "        versionName \"1.0\"\n",
        "\n",
        "        testInstrumentationRunner \"androidx.test.runner.AndroidJUnitRunner\"\n",
        "    }\n",
        "\n",
        "    buildTypes {\n",
        "        all {\n",
        "            proguardFiles 'proguard-rules.pro'\n",
        "        }\n",
        "        release {\n",
        "            minifyEnabled true\n",
        "            proguardFiles getDefaultProguardFile('proguard-android-optimize.txt'), 'proguard-rules.pro'\n",
        "        }\n",
        "    }\n",
        "    compileOptions {\n",
        "        sourceCompatibility JavaVersion.VERSION_1_8\n",
        "        targetCompatibility JavaVersion.VERSION_1_8\n",
        "    }\n",
        "\n",
        "    aaptOptions {\n",
        "        noCompress \"bin\"\n",
        "        noCompress \"tflite\"\n",
        "    }\n",
        "}\n",
        "\n",
        "\n",
        "dependencies {\n",
        "    implementation \"com.google.android.gms:play-services-tflite-acceleration-service:16.4.0-beta01\"\n",
        "\n",
        "    implementation \"com.google.android.gms:play-services-tflite-java:16.4.0\"\n",
        "    implementation \"com.google.android.gms:play-services-tflite-support:16.4.0\"\n",
        "    implementation \"com.google.android.gms:play-services-tflite-gpu:16.4.0\"\n",
        "\n",
        "    implementation \"com.google.android.gms:play-services-tasks:18.0.2\"\n",
        "    implementation \"androidx.appcompat:appcompat:1.4.1\"\n",
        "\n",
        "    // https://mvnrepository.com/artifact/com.google.errorprone/error_prone_annotations\n",
        "    implementation group: 'com.google.errorprone', name: 'error_prone_annotations', version: '2.18.0'\n",
        "\n",
        "    androidTestImplementation \"androidx.test:rules:1.1.0\"\n",
        "    androidTestImplementation \"androidx.test:runner:1.1.0\"\n",
        "    androidTestImplementation 'androidx.test.ext:junit:1.1.5'\n",
        "    androidTestImplementation \"com.google.truth:truth:1.1.3\"\n",
        "}\n",
        "\n",
        "// Download default models; if you wish to use your own models then\n",
        "// place them in the \"assets\" directory and comment out this line.\n",
        "project.ext.ASSET_DIR = projectDir.toString() + '/src/main/assets'\n",
        "apply from:'download.gradle'"
      ],
      "metadata": {
        "id": "6JngeKIZFx2I"
      },
      "execution_count": null,
      "outputs": []
    }
  ]
}